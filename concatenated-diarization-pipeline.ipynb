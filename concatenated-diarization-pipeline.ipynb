{
 "cells": [
  {
   "cell_type": "markdown",
   "metadata": {},
   "source": [
    "## Downloading youtube playlist"
   ]
  },
  {
   "cell_type": "code",
   "execution_count": 1,
   "metadata": {},
   "outputs": [],
   "source": [
    "import json\n",
    "import os\n",
    "from yt_dlp import YoutubeDL\n",
    "from yt_dlp.utils import DownloadError"
   ]
  },
  {
   "cell_type": "code",
   "execution_count": 4,
   "metadata": {},
   "outputs": [
    {
     "name": "stdout",
     "output_type": "stream",
     "text": [
      "[youtube:tab] Extracting URL: https://www.youtube.com/playlist?list=PLUx9o9a3eWJbNd-f59VeXogl1QDiUtrZw\n",
      "[youtube:tab] PLUx9o9a3eWJbNd-f59VeXogl1QDiUtrZw: Downloading webpage\n",
      "[youtube:tab] PLUx9o9a3eWJbNd-f59VeXogl1QDiUtrZw: Redownloading playlist API JSON with unavailable videos\n",
      "[download] Downloading playlist: The Trio on The Trend\n",
      "[youtube:tab] PLUx9o9a3eWJbNd-f59VeXogl1QDiUtrZw page 1: Downloading API JSON\n"
     ]
    },
    {
     "name": "stderr",
     "output_type": "stream",
     "text": [
      "WARNING: [youtube:tab] Incomplete data received. Retrying (1/3)...\n"
     ]
    },
    {
     "name": "stdout",
     "output_type": "stream",
     "text": [
      "[youtube:tab] PLUx9o9a3eWJbNd-f59VeXogl1QDiUtrZw page 1: Downloading API JSON\n"
     ]
    },
    {
     "name": "stderr",
     "output_type": "stream",
     "text": [
      "WARNING: [youtube:tab] Incomplete data received. Retrying (2/3)...\n"
     ]
    },
    {
     "name": "stdout",
     "output_type": "stream",
     "text": [
      "[youtube:tab] PLUx9o9a3eWJbNd-f59VeXogl1QDiUtrZw page 1: Downloading API JSON\n"
     ]
    },
    {
     "name": "stderr",
     "output_type": "stream",
     "text": [
      "WARNING: [youtube:tab] Incomplete data received. Retrying (3/3)...\n"
     ]
    },
    {
     "name": "stdout",
     "output_type": "stream",
     "text": [
      "[youtube:tab] PLUx9o9a3eWJbNd-f59VeXogl1QDiUtrZw page 1: Downloading API JSON\n"
     ]
    },
    {
     "name": "stderr",
     "output_type": "stream",
     "text": [
      "WARNING: [youtube:tab] Incomplete data received. Giving up after 3 retries\n"
     ]
    },
    {
     "name": "stdout",
     "output_type": "stream",
     "text": [
      "[youtube:tab] Playlist The Trio on The Trend: Downloading 21 items of 21\n",
      "[download] Downloading item 1 of 21\n",
      "[youtube] Extracting URL: https://www.youtube.com/watch?v=h1iAaptxIvo\n",
      "[youtube] h1iAaptxIvo: Downloading webpage\n",
      "[youtube] h1iAaptxIvo: Downloading ios player API JSON\n",
      "[youtube] h1iAaptxIvo: Downloading player 81a0fcab\n",
      "[youtube] h1iAaptxIvo: Downloading m3u8 information\n",
      "[info] h1iAaptxIvo: Downloading 1 format(s): 251\n",
      "[download] Destination: /home/ubuntu/samples/h1iAaptxIvo.webm\n",
      "[download] 100% of   60.59MiB in 00:00:03 at 16.88MiB/s    \n",
      "[ExtractAudio] Destination: /home/ubuntu/samples/h1iAaptxIvo.mp3\n",
      "Deleting original file /home/ubuntu/samples/h1iAaptxIvo.webm (pass -k to keep)\n",
      "[download] Downloading item 2 of 21\n",
      "[youtube] Extracting URL: https://www.youtube.com/watch?v=th8NxcgKEJA\n",
      "[youtube] th8NxcgKEJA: Downloading webpage\n",
      "[youtube] th8NxcgKEJA: Downloading ios player API JSON\n",
      "[youtube] th8NxcgKEJA: Downloading m3u8 information\n",
      "[info] th8NxcgKEJA: Downloading 1 format(s): 251\n",
      "[download] Destination: /home/ubuntu/samples/th8NxcgKEJA.webm\n",
      "[download] 100% of   68.25MiB in 00:00:01 at 50.74MiB/s    \n",
      "[ExtractAudio] Destination: /home/ubuntu/samples/th8NxcgKEJA.mp3\n",
      "Deleting original file /home/ubuntu/samples/th8NxcgKEJA.webm (pass -k to keep)\n",
      "[download] Downloading item 3 of 21\n",
      "[youtube] Extracting URL: https://www.youtube.com/watch?v=B5uA9KVq8Ks\n",
      "[youtube] B5uA9KVq8Ks: Downloading webpage\n",
      "[youtube] B5uA9KVq8Ks: Downloading ios player API JSON\n",
      "[youtube] B5uA9KVq8Ks: Downloading m3u8 information\n",
      "[info] B5uA9KVq8Ks: Downloading 1 format(s): 251\n",
      "[download] Destination: /home/ubuntu/samples/B5uA9KVq8Ks.webm\n",
      "[download] 100% of   54.37MiB in 00:00:00 at 57.98MiB/s    \n",
      "[ExtractAudio] Destination: /home/ubuntu/samples/B5uA9KVq8Ks.mp3\n",
      "Deleting original file /home/ubuntu/samples/B5uA9KVq8Ks.webm (pass -k to keep)\n",
      "[download] Downloading item 4 of 21\n",
      "[youtube] Extracting URL: https://www.youtube.com/watch?v=i_hCQUN6lPA\n",
      "[youtube] i_hCQUN6lPA: Downloading webpage\n",
      "[youtube] i_hCQUN6lPA: Downloading ios player API JSON\n",
      "[youtube] i_hCQUN6lPA: Downloading m3u8 information\n",
      "[info] i_hCQUN6lPA: Downloading 1 format(s): 251\n",
      "[download] Destination: /home/ubuntu/samples/i_hCQUN6lPA.webm\n",
      "[download] 100% of   68.56MiB in 00:00:02 at 32.27MiB/s    \n",
      "[ExtractAudio] Destination: /home/ubuntu/samples/i_hCQUN6lPA.mp3\n",
      "Deleting original file /home/ubuntu/samples/i_hCQUN6lPA.webm (pass -k to keep)\n",
      "[download] Downloading item 5 of 21\n",
      "[youtube] Extracting URL: https://www.youtube.com/watch?v=O5W49DA3bB0\n",
      "[youtube] O5W49DA3bB0: Downloading webpage\n",
      "[youtube] O5W49DA3bB0: Downloading ios player API JSON\n",
      "[youtube] O5W49DA3bB0: Downloading m3u8 information\n",
      "[info] O5W49DA3bB0: Downloading 1 format(s): 251\n",
      "[download] Destination: /home/ubuntu/samples/O5W49DA3bB0.webm\n",
      "[download] 100% of   82.10MiB in 00:00:03 at 22.76MiB/s    \n",
      "[ExtractAudio] Destination: /home/ubuntu/samples/O5W49DA3bB0.mp3\n",
      "Deleting original file /home/ubuntu/samples/O5W49DA3bB0.webm (pass -k to keep)\n",
      "[download] Downloading item 6 of 21\n",
      "[youtube] Extracting URL: https://www.youtube.com/watch?v=n4ctyePxAcs\n",
      "[youtube] n4ctyePxAcs: Downloading webpage\n",
      "[youtube] n4ctyePxAcs: Downloading ios player API JSON\n",
      "[youtube] n4ctyePxAcs: Downloading m3u8 information\n",
      "[info] n4ctyePxAcs: Downloading 1 format(s): 251\n",
      "[download] Destination: /home/ubuntu/samples/n4ctyePxAcs.webm\n",
      "[download] 100% of   81.81MiB in 00:00:01 at 43.26MiB/s    \n",
      "[ExtractAudio] Destination: /home/ubuntu/samples/n4ctyePxAcs.mp3\n",
      "Deleting original file /home/ubuntu/samples/n4ctyePxAcs.webm (pass -k to keep)\n",
      "[download] Downloading item 7 of 21\n",
      "[youtube] Extracting URL: https://www.youtube.com/watch?v=ymNpRQwpxH0\n",
      "[youtube] ymNpRQwpxH0: Downloading webpage\n",
      "[youtube] ymNpRQwpxH0: Downloading ios player API JSON\n",
      "[youtube] ymNpRQwpxH0: Downloading m3u8 information\n",
      "[info] ymNpRQwpxH0: Downloading 1 format(s): 251\n",
      "[download] Destination: /home/ubuntu/samples/ymNpRQwpxH0.webm\n",
      "[download] 100% of   83.93MiB in 00:00:01 at 54.43MiB/s    \n",
      "[ExtractAudio] Destination: /home/ubuntu/samples/ymNpRQwpxH0.mp3\n",
      "Deleting original file /home/ubuntu/samples/ymNpRQwpxH0.webm (pass -k to keep)\n",
      "[download] Downloading item 8 of 21\n",
      "[youtube] Extracting URL: https://www.youtube.com/watch?v=qd-iQRhTDwo\n",
      "[youtube] qd-iQRhTDwo: Downloading webpage\n",
      "[youtube] qd-iQRhTDwo: Downloading ios player API JSON\n",
      "[youtube] qd-iQRhTDwo: Downloading m3u8 information\n",
      "[info] qd-iQRhTDwo: Downloading 1 format(s): 251\n",
      "[download] Destination: /home/ubuntu/samples/qd-iQRhTDwo.webm\n",
      "[download] 100% of  101.12MiB in 00:00:05 at 20.09MiB/s    \n",
      "[ExtractAudio] Destination: /home/ubuntu/samples/qd-iQRhTDwo.mp3\n",
      "Deleting original file /home/ubuntu/samples/qd-iQRhTDwo.webm (pass -k to keep)\n",
      "[download] Downloading item 9 of 21\n",
      "[youtube] Extracting URL: https://www.youtube.com/watch?v=vDOua4KsitQ\n",
      "[youtube] vDOua4KsitQ: Downloading webpage\n",
      "[youtube] vDOua4KsitQ: Downloading ios player API JSON\n",
      "[youtube] vDOua4KsitQ: Downloading m3u8 information\n",
      "[info] vDOua4KsitQ: Downloading 1 format(s): 251\n",
      "[download] Destination: /home/ubuntu/samples/vDOua4KsitQ.webm\n",
      "[download] 100% of   86.45MiB in 00:00:23 at 3.61MiB/s     \n",
      "[ExtractAudio] Destination: /home/ubuntu/samples/vDOua4KsitQ.mp3\n",
      "Deleting original file /home/ubuntu/samples/vDOua4KsitQ.webm (pass -k to keep)\n",
      "[download] Downloading item 10 of 21\n",
      "[youtube] Extracting URL: https://www.youtube.com/watch?v=DyzqdbuDgi4\n",
      "[youtube] DyzqdbuDgi4: Downloading webpage\n",
      "[youtube] DyzqdbuDgi4: Downloading ios player API JSON\n",
      "[youtube] DyzqdbuDgi4: Downloading m3u8 information\n",
      "[info] DyzqdbuDgi4: Downloading 1 format(s): 251\n",
      "[download] Destination: /home/ubuntu/samples/DyzqdbuDgi4.webm\n",
      "[download] 100% of   83.74MiB in 00:00:01 at 61.43MiB/s    \n",
      "[ExtractAudio] Destination: /home/ubuntu/samples/DyzqdbuDgi4.mp3\n",
      "Deleting original file /home/ubuntu/samples/DyzqdbuDgi4.webm (pass -k to keep)\n",
      "[download] Downloading item 11 of 21\n",
      "[youtube] Extracting URL: https://www.youtube.com/watch?v=4dGEqE9NeF0\n",
      "[youtube] 4dGEqE9NeF0: Downloading webpage\n",
      "[youtube] 4dGEqE9NeF0: Downloading ios player API JSON\n",
      "[youtube] 4dGEqE9NeF0: Downloading m3u8 information\n",
      "[info] 4dGEqE9NeF0: Downloading 1 format(s): 251\n",
      "[download] Destination: /home/ubuntu/samples/4dGEqE9NeF0.webm\n",
      "[download] 100% of   79.40MiB in 00:00:02 at 26.97MiB/s    \n",
      "[ExtractAudio] Destination: /home/ubuntu/samples/4dGEqE9NeF0.mp3\n",
      "Deleting original file /home/ubuntu/samples/4dGEqE9NeF0.webm (pass -k to keep)\n",
      "[download] Downloading item 12 of 21\n",
      "[youtube] Extracting URL: https://www.youtube.com/watch?v=Z-fuM9RvMp8\n",
      "[youtube] Z-fuM9RvMp8: Downloading webpage\n",
      "[youtube] Z-fuM9RvMp8: Downloading ios player API JSON\n",
      "[youtube] Z-fuM9RvMp8: Downloading m3u8 information\n",
      "[info] Z-fuM9RvMp8: Downloading 1 format(s): 251\n",
      "[download] Destination: /home/ubuntu/samples/Z-fuM9RvMp8.webm\n",
      "[download] 100% of   79.59MiB in 00:00:03 at 23.11MiB/s    \n",
      "[ExtractAudio] Destination: /home/ubuntu/samples/Z-fuM9RvMp8.mp3\n",
      "Deleting original file /home/ubuntu/samples/Z-fuM9RvMp8.webm (pass -k to keep)\n",
      "[download] Downloading item 13 of 21\n",
      "[youtube] Extracting URL: https://www.youtube.com/watch?v=NLY6kajnpys\n",
      "[youtube] NLY6kajnpys: Downloading webpage\n",
      "[youtube] NLY6kajnpys: Downloading ios player API JSON\n",
      "[youtube] NLY6kajnpys: Downloading m3u8 information\n",
      "[info] NLY6kajnpys: Downloading 1 format(s): 251\n",
      "[download] Destination: /home/ubuntu/samples/NLY6kajnpys.webm\n",
      "[download] 100% of  106.71MiB in 00:00:04 at 24.91MiB/s    \n",
      "[ExtractAudio] Destination: /home/ubuntu/samples/NLY6kajnpys.mp3\n",
      "Deleting original file /home/ubuntu/samples/NLY6kajnpys.webm (pass -k to keep)\n",
      "[download] Downloading item 14 of 21\n",
      "[youtube] Extracting URL: https://www.youtube.com/watch?v=pkp2Vnedp0U\n",
      "[youtube] pkp2Vnedp0U: Downloading webpage\n",
      "[youtube] pkp2Vnedp0U: Downloading ios player API JSON\n",
      "[youtube] pkp2Vnedp0U: Downloading m3u8 information\n",
      "[info] pkp2Vnedp0U: Downloading 1 format(s): 251\n",
      "[download] Destination: /home/ubuntu/samples/pkp2Vnedp0U.webm\n",
      "[download] 100% of  117.25MiB in 00:00:04 at 27.73MiB/s    \n",
      "[ExtractAudio] Destination: /home/ubuntu/samples/pkp2Vnedp0U.mp3\n",
      "Deleting original file /home/ubuntu/samples/pkp2Vnedp0U.webm (pass -k to keep)\n",
      "[download] Downloading item 15 of 21\n",
      "[youtube] Extracting URL: https://www.youtube.com/watch?v=pIjoDS83WAk\n",
      "[youtube] pIjoDS83WAk: Downloading webpage\n",
      "[youtube] pIjoDS83WAk: Downloading ios player API JSON\n",
      "[youtube] pIjoDS83WAk: Downloading m3u8 information\n",
      "[info] pIjoDS83WAk: Downloading 1 format(s): 251\n",
      "[download] Destination: /home/ubuntu/samples/pIjoDS83WAk.webm\n",
      "[download] 100% of  135.44MiB in 00:00:05 at 25.40MiB/s    \n",
      "[ExtractAudio] Destination: /home/ubuntu/samples/pIjoDS83WAk.mp3\n",
      "Deleting original file /home/ubuntu/samples/pIjoDS83WAk.webm (pass -k to keep)\n",
      "[download] Downloading item 16 of 21\n",
      "[youtube] Extracting URL: https://www.youtube.com/watch?v=_c5w-8jV29s\n",
      "[youtube] _c5w-8jV29s: Downloading webpage\n",
      "[youtube] _c5w-8jV29s: Downloading ios player API JSON\n",
      "[youtube] _c5w-8jV29s: Downloading m3u8 information\n",
      "[info] _c5w-8jV29s: Downloading 1 format(s): 251\n",
      "[download] Destination: /home/ubuntu/samples/_c5w-8jV29s.webm\n",
      "[download] 100% of   61.23MiB in 00:00:02 at 21.21MiB/s    \n",
      "[ExtractAudio] Destination: /home/ubuntu/samples/_c5w-8jV29s.mp3\n",
      "Deleting original file /home/ubuntu/samples/_c5w-8jV29s.webm (pass -k to keep)\n",
      "[download] Downloading item 17 of 21\n",
      "[youtube] Extracting URL: https://www.youtube.com/watch?v=NtUpX1ay26w\n",
      "[youtube] NtUpX1ay26w: Downloading webpage\n",
      "[youtube] NtUpX1ay26w: Downloading ios player API JSON\n",
      "[youtube] NtUpX1ay26w: Downloading m3u8 information\n",
      "[info] NtUpX1ay26w: Downloading 1 format(s): 251\n",
      "[download] Destination: /home/ubuntu/samples/NtUpX1ay26w.webm\n",
      "[download] 100% of   70.39MiB in 00:00:03 at 22.28MiB/s    \n",
      "[ExtractAudio] Destination: /home/ubuntu/samples/NtUpX1ay26w.mp3\n",
      "Deleting original file /home/ubuntu/samples/NtUpX1ay26w.webm (pass -k to keep)\n",
      "[download] Downloading item 18 of 21\n",
      "[youtube] Extracting URL: https://www.youtube.com/watch?v=9J4OA3LjVME\n",
      "[youtube] 9J4OA3LjVME: Downloading webpage\n",
      "[youtube] 9J4OA3LjVME: Downloading ios player API JSON\n",
      "[youtube] 9J4OA3LjVME: Downloading m3u8 information\n",
      "[info] 9J4OA3LjVME: Downloading 1 format(s): 251\n",
      "[download] Destination: /home/ubuntu/samples/9J4OA3LjVME.webm\n",
      "[download] 100% of   27.73MiB in 00:00:03 at 8.15MiB/s     \n",
      "[ExtractAudio] Destination: /home/ubuntu/samples/9J4OA3LjVME.mp3\n",
      "Deleting original file /home/ubuntu/samples/9J4OA3LjVME.webm (pass -k to keep)\n",
      "[download] Downloading item 19 of 21\n",
      "[youtube] Extracting URL: https://www.youtube.com/watch?v=pC-gOx45a6M\n",
      "[youtube] pC-gOx45a6M: Downloading webpage\n",
      "[youtube] pC-gOx45a6M: Downloading ios player API JSON\n",
      "[youtube] pC-gOx45a6M: Downloading m3u8 information\n",
      "[info] pC-gOx45a6M: Downloading 1 format(s): 251\n",
      "[download] Destination: /home/ubuntu/samples/pC-gOx45a6M.webm\n",
      "[download] 100% of   57.77MiB in 00:00:00 at 60.40MiB/s    \n",
      "[ExtractAudio] Destination: /home/ubuntu/samples/pC-gOx45a6M.mp3\n",
      "Deleting original file /home/ubuntu/samples/pC-gOx45a6M.webm (pass -k to keep)\n",
      "[download] Downloading item 20 of 21\n",
      "[youtube] Extracting URL: https://www.youtube.com/watch?v=6E5vctWYPVs\n",
      "[youtube] 6E5vctWYPVs: Downloading webpage\n",
      "[youtube] 6E5vctWYPVs: Downloading ios player API JSON\n",
      "[youtube] 6E5vctWYPVs: Downloading m3u8 information\n",
      "[info] 6E5vctWYPVs: Downloading 1 format(s): 251\n",
      "[download] Destination: /home/ubuntu/samples/6E5vctWYPVs.webm\n",
      "[download] 100% of   28.96MiB in 00:00:01 at 16.36MiB/s    \n",
      "[ExtractAudio] Destination: /home/ubuntu/samples/6E5vctWYPVs.mp3\n",
      "Deleting original file /home/ubuntu/samples/6E5vctWYPVs.webm (pass -k to keep)\n",
      "[download] Downloading item 21 of 21\n",
      "[youtube] Extracting URL: https://www.youtube.com/watch?v=Erhbei6ywko\n",
      "[youtube] Erhbei6ywko: Downloading webpage\n",
      "[youtube] Erhbei6ywko: Downloading ios player API JSON\n",
      "[youtube] Erhbei6ywko: Downloading m3u8 information\n",
      "[info] Erhbei6ywko: Downloading 1 format(s): 251\n",
      "[download] Destination: /home/ubuntu/samples/Erhbei6ywko.webm\n",
      "[download] 100% of    9.07MiB in 00:00:01 at 7.78MiB/s   \n",
      "[ExtractAudio] Destination: /home/ubuntu/samples/Erhbei6ywko.mp3\n",
      "Deleting original file /home/ubuntu/samples/Erhbei6ywko.webm (pass -k to keep)\n",
      "[download] Finished downloading playlist: The Trio on The Trend\n"
     ]
    }
   ],
   "source": [
    "# put urls of youtube videos, playlists or channels\n",
    "urls = [\n",
    "    # \"https://www.youtube.com/playlist?list=PLUx9o9a3eWJbNd-f59VeXogl1QDiUtrZw\"\n",
    "]\n",
    "\n",
    "\n",
    "\n",
    "ydl_opts = {\n",
    "    'ignoreerrors': True,\n",
    "    'abort_on_unavailable_fragments': True,\n",
    "    'format': 'bestaudio/best',\n",
    "    'postprocessors': [{\n",
    "        'key': 'FFmpegExtractAudio',\n",
    "        'preferredcodec': 'mp3',\n",
    "        'preferredquality': '256',  # You can set the quality as needed\n",
    "        'nopostoverwrites': False,  # Ensure postprocessing overwrites files if needed\n",
    "    }],\n",
    "    'postprocessor_args': [\n",
    "        '-ar', '16000',  # 16 KHz sampling rate\n",
    "        '-ac', '1'       # Mono Audio\n",
    "\n",
    "    ],\n",
    "    'prefer_ffmpeg': True,\n",
    "    'outtmpl': '/home/ubuntu/samples/%(id)s.%(ext)s',\n",
    "}\n",
    "\n",
    "os.makedirs(\"/home/ubuntu/samples\", exist_ok=True)\n",
    "\n",
    "for idex, url in enumerate(urls):\n",
    "    with YoutubeDL(ydl_opts) as ydl:\n",
    "        ydl.download([url])"
   ]
  },
  {
   "cell_type": "markdown",
   "metadata": {},
   "source": [
    "## Processing Videos"
   ]
  },
  {
   "cell_type": "code",
   "execution_count": 1,
   "metadata": {},
   "outputs": [
    {
     "name": "stderr",
     "output_type": "stream",
     "text": [
      "/home/ubuntu/anaconda3/envs/tts/lib/python3.9/site-packages/pyannote/audio/core/io.py:43: UserWarning: torchaudio._backend.set_audio_backend has been deprecated. With dispatcher enabled, this function is no-op. You can remove the function call.\n",
      "  torchaudio.set_audio_backend(\"soundfile\")\n",
      "torchvision is not available - cannot save figures\n",
      "Lightning automatically upgraded your loaded checkpoint from v1.5.4 to v2.3.0. To apply the upgrade to your files permanently, run `python -m pytorch_lightning.utilities.upgrade_checkpoint ../.cache/torch/whisperx-vad-segmentation.bin`\n"
     ]
    },
    {
     "name": "stdout",
     "output_type": "stream",
     "text": [
      "Model was trained with pyannote.audio 0.0.1, yours is 3.1.1. Bad things might happen unless you revert pyannote.audio to 0.x.\n",
      "Model was trained with torch 1.10.0+cu102, yours is 2.3.1+cu121. Bad things might happen unless you revert torch to 1.x.\n"
     ]
    },
    {
     "name": "stderr",
     "output_type": "stream",
     "text": [
      "Some weights of Wav2Vec2ForCTC were not initialized from the model checkpoint at intelsense/wav2vec2_BanglaASR_better and are newly initialized: ['wav2vec2.encoder.pos_conv_embed.conv.parametrizations.weight.original0', 'wav2vec2.encoder.pos_conv_embed.conv.parametrizations.weight.original1']\n",
      "You should probably TRAIN this model on a down-stream task to be able to use it for predictions and inference.\n",
      "Lightning automatically upgraded your loaded checkpoint from v1.2.7 to v2.3.0. To apply the upgrade to your files permanently, run `python -m pytorch_lightning.utilities.upgrade_checkpoint ../.cache/torch/pyannote/models--pyannote--embedding/snapshots/4db4899737a38b2d618bbd74350915aa10293cb2/pytorch_model.bin`\n",
      "Lightning automatically upgraded your loaded checkpoint from v1.2.7 to v2.3.0. To apply the upgrade to your files permanently, run `python -m pytorch_lightning.utilities.upgrade_checkpoint ../.cache/torch/pyannote/models--pyannote--embedding/snapshots/4db4899737a38b2d618bbd74350915aa10293cb2/pytorch_model.bin`\n"
     ]
    },
    {
     "name": "stdout",
     "output_type": "stream",
     "text": [
      "Model was trained with pyannote.audio 0.0.1, yours is 3.1.1. Bad things might happen unless you revert pyannote.audio to 0.x.\n",
      "Model was trained with torch 1.8.1+cu102, yours is 2.3.1+cu121. Bad things might happen unless you revert torch to 1.x.\n",
      "Model was trained with pyannote.audio 0.0.1, yours is 3.1.1. Bad things might happen unless you revert pyannote.audio to 0.x.\n",
      "Model was trained with torch 1.8.1+cu102, yours is 2.3.1+cu121. Bad things might happen unless you revert torch to 1.x.\n",
      "Loading from cache: cache/DNS-large-full.json\n",
      "Loading from cache: cache/pretrained.pkl\n"
     ]
    }
   ],
   "source": [
    "import torch\n",
    "import whisperx\n",
    "import torchaudio\n",
    "from pyannote.audio import Pipeline, Model, Inference\n",
    "\n",
    "from cleanunet import CleanUNet\n",
    "\n",
    "device = \"cuda\" \n",
    "compute_type = \"float32\" \n",
    "language = \"bn\"\n",
    "batch_size = 8\n",
    "min_chunk_size = 5\n",
    "max_chunk_size = 10\n",
    "\n",
    "model = whisperx.load_model(\"intelsense/bengali-whisper-medium-tugstugi-ct2\", device, compute_type=compute_type, language=language, threads=4)\n",
    "model_a, metadata = whisperx.load_align_model(model_name=\"intelsense/wav2vec2_BanglaASR_better\", language_code=language, device=device)\n",
    "# diarize_model = whisperx.DiarizationPipeline(use_auth_token=HF_TOKEN, device=device)\n",
    "diarization_pipeline = Pipeline.from_pretrained(\"pyannote/speaker-diarization-3.1\").to(torch.device(device))\n",
    "diarization_pipeline.embedding_exclude_overlap = True\n",
    "embedding_model = Model.from_pretrained(\"pyannote/embedding\").to(torch.device(device))\n",
    "inference = Inference(embedding_model, window=\"whole\")\n",
    "net = CleanUNet.from_pretrained(varient='full', device=device)"
   ]
  },
  {
   "cell_type": "code",
   "execution_count": 1,
   "metadata": {},
   "outputs": [],
   "source": [
    "import chromadb\n",
    "client = chromadb.PersistentClient(path=\"chroma.db\")\n",
    "collection = client.get_or_create_collection(\n",
    "    name=\"speakers-collection\", \n",
    "    metadata={\"hnsw:space\": \"cosine\"}\n",
    ")"
   ]
  },
  {
   "cell_type": "code",
   "execution_count": 3,
   "metadata": {},
   "outputs": [
    {
     "name": "stdout",
     "output_type": "stream",
     "text": [
      "4dGEqE9NeF0.mp3  NLY6kajnpys.mp3  i_hCQUN6lPA.mp3  th8NxcgKEJA.mp3\n",
      "6E5vctWYPVs.mp3  NtUpX1ay26w.mp3  n4ctyePxAcs.mp3  vDOua4KsitQ.mp3\n",
      "9J4OA3LjVME.mp3  O5W49DA3bB0.mp3  pC-gOx45a6M.mp3  ymNpRQwpxH0.mp3\n",
      "B5uA9KVq8Ks.mp3  Z-fuM9RvMp8.mp3  pIjoDS83WAk.mp3\n",
      "DyzqdbuDgi4.mp3  _c5w-8jV29s.mp3  pkp2Vnedp0U.mp3\n",
      "Erhbei6ywko.mp3  h1iAaptxIvo.mp3  qd-iQRhTDwo.mp3\n"
     ]
    }
   ],
   "source": [
    "!ls /home/ubuntu/samples"
   ]
  },
  {
   "cell_type": "code",
   "execution_count": 2,
   "metadata": {},
   "outputs": [
    {
     "data": {
      "text/plain": [
       "48"
      ]
     },
     "execution_count": 2,
     "metadata": {},
     "output_type": "execute_result"
    }
   ],
   "source": [
    "collection.count()"
   ]
  },
  {
   "cell_type": "code",
   "execution_count": 5,
   "metadata": {},
   "outputs": [],
   "source": [
    "import numpy as np\n",
    "\n",
    "def get_speaker_id(embedding, threshold=0.5):\n",
    "    embedding = embedding.astype(np.float_).tolist()\n",
    "    result = collection.query([embedding], n_results=1, include=['embeddings', 'distances'])\n",
    "    speaker_id = None\n",
    "    if len(result[\"ids\"][0])>0 and result[\"distances\"][0][0] < threshold:\n",
    "        speaker_id = result[\"ids\"][0][0]\n",
    "        # update embedding with running average\n",
    "        prev_embedding = np.asarray(result[\"embeddings\"][0][0])\n",
    "        new_embedding = np.asarray(embedding)\n",
    "        avg_embedding = prev_embedding * 0.9 + new_embedding * 0.1\n",
    "        avg_embedding = avg_embedding.astype(np.float_).tolist()\n",
    "        collection.update(\n",
    "            ids=[speaker_id],\n",
    "            embeddings=[avg_embedding]\n",
    "        )\n",
    "    else:\n",
    "        # create new speaker and assign new id\n",
    "        speaker_id = f\"sp{collection.count()}\"\n",
    "        collection.add(\n",
    "            embeddings=[embedding],\n",
    "            ids=[speaker_id]\n",
    "        )\n",
    "    return speaker_id"
   ]
  },
  {
   "cell_type": "code",
   "execution_count": 6,
   "metadata": {},
   "outputs": [],
   "source": [
    "def chunk_audio(audio, chunk_size):\n",
    "    num_chunks = int(np.ceil(audio.shape[1] / chunk_size))\n",
    "    return [audio[:, i*chunk_size:(i+1)*chunk_size] for i in range(num_chunks)]"
   ]
  },
  {
   "cell_type": "code",
   "execution_count": 7,
   "metadata": {},
   "outputs": [
    {
     "name": "stdout",
     "output_type": "stream",
     "text": [
      "/home/ubuntu/samples/_c5w-8jV29s.mp3\n"
     ]
    }
   ],
   "source": [
    "import os\n",
    "from glob import glob\n",
    "os.makedirs(\"audio\", exist_ok=True)\n",
    "\n",
    "meta = []\n",
    "\n",
    "for audio_file in glob('/home/ubuntu/samples/*.mp3'):\n",
    "    print(audio_file)\n",
    "    audio_file_id = os.path.basename(audio_file).split('.')[0]\n",
    "    idx = 0\n",
    "    waveform, sample_rate = torchaudio.load(audio_file)\n",
    "    audio = {\"waveform\": waveform, \"sample_rate\": sample_rate}\n",
    "    diarization = diarization_pipeline(audio)\n",
    "    torch.cuda.empty_cache()\n",
    "\n",
    "    for turn, _, speaker in diarization.itertracks(yield_label=True):\n",
    "        seg_start = turn.start\n",
    "        seg_end = turn.end\n",
    "\n",
    "        seg_audio = waveform[:, int(seg_start * sample_rate):int(seg_end * sample_rate)]\n",
    "\n",
    "        speaker_embedding = inference({\"waveform\": seg_audio, \"sample_rate\": sample_rate})\n",
    "        torch.cuda.empty_cache()\n",
    "\n",
    "        speaker_id = get_speaker_id(speaker_embedding)\n",
    "        \n",
    "        chunk_size_samples = max_chunk_size * sample_rate\n",
    "        audio_chunks = chunk_audio(seg_audio, chunk_size_samples)\n",
    "        \n",
    "        for chunk in audio_chunks:\n",
    "\n",
    "            if chunk.shape[1] < min_chunk_size * sample_rate:\n",
    "                continue\n",
    "\n",
    "            clean_audio = net(chunk.to(device))[0].detach().cpu()\n",
    "            torch.cuda.empty_cache()\n",
    "\n",
    "            transcription = model.transcribe(clean_audio[0].numpy(), batch_size=batch_size, chunk_size=max_chunk_size)\n",
    "            aligned_transcription = whisperx.align(transcription[\"segments\"], model_a,\n",
    "                                               metadata, clean_audio[0].numpy(), device, return_char_alignments=False)\n",
    "            torch.cuda.empty_cache()\n",
    "            for segment in aligned_transcription[\"segments\"]:\n",
    "                segment_id = f\"{audio_file_id}#{idx}_{speaker_id}.mp3\"\n",
    "                idx += 1\n",
    "                start_time = segment[\"start\"]\n",
    "                end_time = segment[\"end\"]\n",
    "\n",
    "                if end_time - start_time < min_chunk_size:\n",
    "                    continue\n",
    "\n",
    "                text = segment[\"text\"]\n",
    "                torchaudio.save(\n",
    "                    \"audio/\"+segment_id,\n",
    "                    clean_audio[:, int(start_time * sample_rate):int(end_time * sample_rate)],\n",
    "                    sample_rate,\n",
    "                    format=\"mp3\"\n",
    "                )\n",
    "                meta.append({\n",
    "                    \"id\": segment_id,\n",
    "                    \"text\": text\n",
    "                })\n",
    "    print(f\"transcriptions completed for {audio_file}\")\n",
    "\n",
    "with open(\"metadata.txt\", \"w\") as f:\n",
    "    for item in meta:\n",
    "        f.write(f\"{item['id']}|{item['text']}\\n\")"
   ]
  },
  {
   "cell_type": "code",
   "execution_count": null,
   "metadata": {},
   "outputs": [],
   "source": []
  },
  {
   "cell_type": "code",
   "execution_count": null,
   "metadata": {},
   "outputs": [],
   "source": []
  },
  {
   "cell_type": "code",
   "execution_count": 8,
   "metadata": {},
   "outputs": [],
   "source": [
    "audio_file = \"/home/ubuntu/samples/vDOua4KsitQ.mp3\"\n",
    "waveform, sample_rate = torchaudio.load(audio_file)\n",
    "audio = {\"waveform\": waveform, \"sample_rate\": sample_rate}\n",
    "torch.cuda.empty_cache()"
   ]
  },
  {
   "cell_type": "code",
   "execution_count": 9,
   "metadata": {},
   "outputs": [
    {
     "data": {
      "text/plain": [
       "660"
      ]
     },
     "execution_count": 9,
     "metadata": {},
     "output_type": "execute_result"
    }
   ],
   "source": [
    "# get_speaker_id(embedding)\n",
    "# collection.query([embedding.astype(np.float_).tolist()], n_results=1, include=['embeddings', 'distances'])\n",
    "chunks_test = chunk_audio(waveform, 10*sample_rate)\n",
    "len(chunks_test)"
   ]
  },
  {
   "cell_type": "code",
   "execution_count": 11,
   "metadata": {},
   "outputs": [
    {
     "data": {
      "text/plain": [
       "torch.Size([1, 160000])"
      ]
     },
     "execution_count": 11,
     "metadata": {},
     "output_type": "execute_result"
    }
   ],
   "source": [
    "chunks_test[0].shape"
   ]
  },
  {
   "cell_type": "code",
   "execution_count": 13,
   "metadata": {},
   "outputs": [],
   "source": [
    "torchaudio.save(\"test.mp3\", chunks_test[0], sample_rate, format=\"mp3\")"
   ]
  },
  {
   "cell_type": "code",
   "execution_count": 12,
   "metadata": {},
   "outputs": [],
   "source": [
    "embedding = inference(audio)"
   ]
  },
  {
   "cell_type": "code",
   "execution_count": 8,
   "metadata": {},
   "outputs": [],
   "source": [
    "diarization = diarization_pipeline(audio)\n",
    "torch.cuda.empty_cache()"
   ]
  },
  {
   "cell_type": "code",
   "execution_count": null,
   "metadata": {},
   "outputs": [],
   "source": []
  }
 ],
 "metadata": {
  "kernelspec": {
   "display_name": "tts",
   "language": "python",
   "name": "python3"
  },
  "language_info": {
   "codemirror_mode": {
    "name": "ipython",
    "version": 3
   },
   "file_extension": ".py",
   "mimetype": "text/x-python",
   "name": "python",
   "nbconvert_exporter": "python",
   "pygments_lexer": "ipython3",
   "version": "3.9.19"
  }
 },
 "nbformat": 4,
 "nbformat_minor": 2
}
